{
 "cells": [
  {
   "attachments": {},
   "cell_type": "markdown",
   "metadata": {},
   "source": [
    "Part 1 - Creating the lists"
   ]
  },
  {
   "cell_type": "code",
   "execution_count": 17,
   "metadata": {},
   "outputs": [],
   "source": [
    "#Creating list\n",
    "station_names = [\"lighthouse\", \"Harmaja\", \"Suomenlinna aaltopoiju\", \"Kumpula\", \"Kaisaniemi\"]\n",
    "station_start_year = [\"2003\", \"1989\", \"2016\", \"2005\", \"1844\"]\n",
    "start_len = len(station_names)\n",
    "start_year_len = len(station_start_year)"
   ]
  },
  {
   "attachments": {},
   "cell_type": "markdown",
   "metadata": {},
   "source": [
    "Checking for errors 1"
   ]
  },
  {
   "cell_type": "code",
   "execution_count": 18,
   "metadata": {},
   "outputs": [],
   "source": [
    "#This is a test cell to check that the length of the lists are correct\n",
    "#Running this cell shouldn't produce any errors!!!\n",
    "assert start_len == 5, 'The station_names list should have 5 items'\n",
    "assert start_year_len == 5, 'The station_start_year list should have 5 items'"
   ]
  },
  {
   "cell_type": "code",
   "execution_count": 19,
   "metadata": {},
   "outputs": [],
   "source": [
    "#This is a test cell that checks that the first item in the list is correct\n",
    "#Running this cell should not produce any errors\n",
    "assert station_names[0] == 'lighthouse', 'The first item in the station_names list should be \"lighthouse\"'\n",
    "assert station_start_year[0] == '2003', 'The first item in the station_start_year list should be \"2003\"'"
   ]
  },
  {
   "attachments": {},
   "cell_type": "markdown",
   "metadata": {},
   "source": [
    "Part 2 - Modifying the lists"
   ]
  },
  {
   "cell_type": "code",
   "execution_count": 20,
   "metadata": {},
   "outputs": [],
   "source": [
    "# add stations to the list\n",
    "station_names.append(\"Malmi airfield\")\n",
    "station_names.append(\"Vuosaari harbour\")\n",
    "station_names.append(\"Kaivopuisto\")\n",
    "\n",
    "# add years to the list\n",
    "station_start_year.append(\"1937\")\n",
    "station_start_year.append(\"2012\")\n",
    "station_start_year.append(\"1904\")\n",
    "\n"
   ]
  },
  {
   "attachments": {},
   "cell_type": "markdown",
   "metadata": {},
   "source": [
    "Checking for errors 2"
   ]
  },
  {
   "cell_type": "code",
   "execution_count": null,
   "metadata": {},
   "outputs": [],
   "source": [
    "# This is a test cell that checks that the list lengths are correct\n",
    "# Running this cell shouldn't produce any errors\n",
    "assert len(station_names) == 8, 'The station_names list should have 8 items'\n",
    "assert len(station_start_year) == 8, 'The station_start_year list should have 8 items'\n"
   ]
  },
  {
   "cell_type": "code",
   "execution_count": 22,
   "metadata": {},
   "outputs": [],
   "source": [
    "# This is a test cell that checks that the last item in the lists is correct\n",
    "# Running this cell should not produce any errors\n",
    "assert station_names[-1] == 'Kaivopuisto', 'The last item in the station_names list should be \"Kaivapuisto\"'\n",
    "assert station_start_year[-1] == '1904', 'The last item in the station_start_year list should be \"1904\"'"
   ]
  },
  {
   "attachments": {},
   "cell_type": "markdown",
   "metadata": {},
   "source": [
    "Part 3 - Sorting the lists "
   ]
  },
  {
   "cell_type": "code",
   "execution_count": 23,
   "metadata": {},
   "outputs": [],
   "source": [
    "# Sorting lists\n",
    "station_names.sort()\n",
    "station_start_year.sort()\n",
    "\n",
    "#print(station_names)\n",
    "#print(station_start_year)\n",
    "\n"
   ]
  },
  {
   "attachments": {},
   "cell_type": "markdown",
   "metadata": {},
   "source": [
    "Checking for errors 3"
   ]
  },
  {
   "cell_type": "code",
   "execution_count": 24,
   "metadata": {},
   "outputs": [],
   "source": [
    "# This is a test cell that checks that the last item in the lists is correct\n",
    "# Running this cell should not produce any errors\n",
    "assert station_names[0] == 'Harmaja', \"The first item in the station_names list should be Harmaja\"\n",
    "assert station_start_year[0] == '1844', 'The first item in the station_start_year list should be \"1844\"'"
   ]
  },
  {
   "attachments": {},
   "cell_type": "markdown",
   "metadata": {},
   "source": [
    "Part 4 - Understanding the code"
   ]
  },
  {
   "attachments": {},
   "cell_type": "markdown",
   "metadata": {},
   "source": [
    "The sorted station_names list items will not correspond with the station_start_year sorted list. In the problem in 3, the station_names index 0 is Harmaja whose year is supposed to be 1989 but since we are using the sorted years list, the year for Harmaja is now 1944."
   ]
  },
  {
   "attachments": {},
   "cell_type": "markdown",
   "metadata": {},
   "source": [
    "The sorting should be done such that the rows are not affected when you sort either the staton_names list or the station_start_years list"
   ]
  },
  {
   "attachments": {},
   "cell_type": "markdown",
   "metadata": {},
   "source": [
    "Part 5 - Python + Google"
   ]
  },
  {
   "cell_type": "code",
   "execution_count": 27,
   "metadata": {},
   "outputs": [
    {
     "name": "stdout",
     "output_type": "stream",
     "text": [
      "{('Suomenlinna aaltopoiju', '2005'), ('lighthouse', '2016'), ('Kaisaniemi', '1904'), ('Vuosaari harbour', '2012'), ('Kumpula', '1989'), ('Harmaja', '1844'), ('Kaivopuisto', '1937'), ('Malmi airfield', '2003')}\n",
      "{'Harmaja': '1844', 'Kaisaniemi': '1904', 'Kaivopuisto': '1937', 'Kumpula': '1989', 'Malmi airfield': '2003', 'Suomenlinna aaltopoiju': '2005', 'Vuosaari harbour': '2012', 'lighthouse': '2016'}\n"
     ]
    }
   ],
   "source": [
    "# Using zip function to map\n",
    "station_year_map = zip(station_names, station_start_year)\n",
    "print(set(station_year_map))\n",
    "\n",
    "# Using zip to iterate a dictionary\n",
    "station_dict = {station_names: station_start_year for station_names, station_start_year in zip(station_names, station_start_year)}\n",
    "print(station_dict)"
   ]
  },
  {
   "attachments": {},
   "cell_type": "markdown",
   "metadata": {},
   "source": [
    "Problem 2 - Accessing monthly average temperatures"
   ]
  },
  {
   "cell_type": "code",
   "execution_count": null,
   "metadata": {},
   "outputs": [],
   "source": [
    "# Variable to select a month\n",
    "month_index = [0, 1, 2, 3, 4, 5, 6, 7, 8, 9, 10, 11]\n",
    "\n",
    "# month and temperature lists\n",
    "month = ['January', 'February', 'March', 'April', 'May', 'June', 'July', 'August', 'September' , 'October', 'November', 'December']\n",
    "average_temp = [-3.5, -4.5, -1, 4, 10, 15, 18, 16, 11.5, 6, 2, -1.5]\n",
    "\n",
    "# Using lists and their indices\n",
    "for month_index, (month, average_temp) in enumerate(zip(month, average_temp)):\n",
    "    print(month, \":\", average_temp) "
   ]
  },
  {
   "attachments": {},
   "cell_type": "markdown",
   "metadata": {},
   "source": [
    "Additional tests for problem 2"
   ]
  },
  {
   "cell_type": "code",
   "execution_count": null,
   "metadata": {},
   "outputs": [],
   "source": [
    "# Check that the two lists have lengths of 12\n",
    "assert len(month) == 12, 'Wrong length!!'\n",
    "assert len(average_temp) == 12, 'Wrong length!!'\n"
   ]
  },
  {
   "cell_type": "code",
   "execution_count": null,
   "metadata": {},
   "outputs": [],
   "source": [
    "# Check that the month and average_temp variables are lists\n",
    "assert isinstance(month, list), 'The variable \"month\" is not a list'\n",
    "assert isinstance(average_temp, list), 'The variable \"average_temp\" is not a list'\n"
   ]
  },
  {
   "cell_type": "code",
   "execution_count": 53,
   "metadata": {},
   "outputs": [
    {
     "name": "stdout",
     "output_type": "stream",
     "text": [
      "The average in temperature in Helsinki in July is 18\n"
     ]
    }
   ],
   "source": [
    "# Check that the print statement is correct;\n",
    "# Set selected_month_index to correspond with July before running this cell.\n",
    "# Note! The code should work with any of the 12 months!\n",
    "#for month_index in month:\n",
    "selected_month_index = 6\n",
    "\n",
    "print('The average in temperature in Helsinki in', month[selected_month_index], 'is', average_temp[selected_month_index])"
   ]
  },
  {
   "attachments": {},
   "cell_type": "markdown",
   "metadata": {},
   "source": [
    "Problem 3 - More practice using Markdown"
   ]
  },
  {
   "attachments": {},
   "cell_type": "markdown",
   "metadata": {},
   "source": [
    "Part 2 - Adding an image "
   ]
  },
  {
   "cell_type": "code",
   "execution_count": 35,
   "metadata": {},
   "outputs": [],
   "source": [
    "# importing modules\n",
    "import urllib.request\n",
    "from PIL import Image\n",
    "\n",
    "urllib.request.urlretrieve(\n",
    "'https://www.purina.co.uk/sites/default/files/2023-03/Teaser%20Pedigree%20Cats.jpg',\n",
    "\"imp_img.jpg\")\n",
    "\n",
    "img = Image.open(\"imp_img.jpg\")\n",
    "img.show()\n"
   ]
  },
  {
   "attachments": {},
   "cell_type": "markdown",
   "metadata": {},
   "source": []
  }
 ],
 "metadata": {
  "kernelspec": {
   "display_name": "Python 3",
   "language": "python",
   "name": "python3"
  },
  "language_info": {
   "codemirror_mode": {
    "name": "ipython",
    "version": 3
   },
   "file_extension": ".py",
   "mimetype": "text/x-python",
   "name": "python",
   "nbconvert_exporter": "python",
   "pygments_lexer": "ipython3",
   "version": "3.11.4"
  },
  "orig_nbformat": 4
 },
 "nbformat": 4,
 "nbformat_minor": 2
}
