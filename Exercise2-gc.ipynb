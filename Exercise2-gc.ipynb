{
 "cells": [
  {
   "attachments": {},
   "cell_type": "markdown",
   "metadata": {},
   "source": [
    "Part 1 - Creating the lists"
   ]
  },
  {
   "cell_type": "code",
   "execution_count": 16,
   "metadata": {},
   "outputs": [],
   "source": [
    "#Creating list\n",
    "station_names = [\"lighthouse\", \"Harmaja\", \"Suomenlinna aaltopoiju\", \"Kumpula\", \"Kaisaniemi\"]\n",
    "station_start_year = [\"2003\", \"1989\", \"2016\", \"2005\", \"1844\"]\n",
    "start_len = len(station_names)\n",
    "start_year_len = len(station_start_year)"
   ]
  },
  {
   "attachments": {},
   "cell_type": "markdown",
   "metadata": {},
   "source": [
    "Checking for errors"
   ]
  },
  {
   "cell_type": "code",
   "execution_count": 17,
   "metadata": {},
   "outputs": [],
   "source": [
    "#This is a test cell to check that the length of the lists are correct\n",
    "#Running this cell shouldn't produce any errors!!!\n",
    "assert start_len == 5, 'The station_names list should have 5 items'\n",
    "assert start_year_len == 5, 'The station_start_year list should have 5 items'"
   ]
  },
  {
   "cell_type": "code",
   "execution_count": 18,
   "metadata": {},
   "outputs": [],
   "source": [
    "#This is a test cell that checks that the first item in the list is correct\n",
    "#Running this cell should not produce any errors\n",
    "assert station_names[0] == 'lighthouse', 'The first item in the station_names list should be \"lighthouse\"'\n",
    "assert station_start_year[0] == '2003', 'The first item in the station_start_year list should be \"2003\"'"
   ]
  },
  {
   "attachments": {},
   "cell_type": "markdown",
   "metadata": {},
   "source": [
    "Part 2 - Modifying the lists"
   ]
  },
  {
   "cell_type": "code",
   "execution_count": 19,
   "metadata": {},
   "outputs": [],
   "source": [
    "# add stations to the list\n",
    "station_names.append(\"Malmi airfield\")\n",
    "station_names.append(\"Vuosaari harbour\")\n",
    "station_names.append(\"Kaivopuisto\")\n",
    "\n",
    "# add years to the list\n",
    "station_start_year.append(\"1937\")\n",
    "station_start_year.append(\"2012\")\n",
    "station_start_year.append(\"1904\")\n",
    "\n"
   ]
  },
  {
   "attachments": {},
   "cell_type": "markdown",
   "metadata": {},
   "source": [
    "Checking for errors 2"
   ]
  },
  {
   "cell_type": "code",
   "execution_count": 20,
   "metadata": {},
   "outputs": [],
   "source": [
    "# This is a test cell that checks that the list lengths are correct\n",
    "# Running this cell shouldn't produce any errors\n",
    "assert len(station_names) == 8, 'The station_names list should have 8 items'\n",
    "assert len(station_start_year) == 8, 'The station_start_year list should have 8 items'\n"
   ]
  },
  {
   "cell_type": "code",
   "execution_count": 21,
   "metadata": {},
   "outputs": [],
   "source": [
    "# This is a test cell that checks that the last item in the lists is correct\n",
    "# Running this cell should not produce any errors\n",
    "assert station_names[-1] == 'Kaivopuisto', 'The last item in the station_names list should be \"Kaivapuisto\"'\n",
    "assert station_start_year[-1] == '1904', 'The last item in the station_start_year list should be \"1904\"'"
   ]
  },
  {
   "attachments": {},
   "cell_type": "markdown",
   "metadata": {},
   "source": [
    "Part 3 - Sorting the lists "
   ]
  },
  {
   "attachments": {},
   "cell_type": "markdown",
   "metadata": {},
   "source": []
  }
 ],
 "metadata": {
  "kernelspec": {
   "display_name": "Python 3",
   "language": "python",
   "name": "python3"
  },
  "language_info": {
   "codemirror_mode": {
    "name": "ipython",
    "version": 3
   },
   "file_extension": ".py",
   "mimetype": "text/x-python",
   "name": "python",
   "nbconvert_exporter": "python",
   "pygments_lexer": "ipython3",
   "version": "3.11.4"
  },
  "orig_nbformat": 4
 },
 "nbformat": 4,
 "nbformat_minor": 2
}
