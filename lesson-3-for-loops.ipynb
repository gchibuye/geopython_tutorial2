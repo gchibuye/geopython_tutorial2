{
 "cells": [
  {
   "cell_type": "markdown",
   "metadata": {},
   "source": [
    "Introducing the for loop"
   ]
  },
  {
   "cell_type": "code",
   "execution_count": 4,
   "metadata": {},
   "outputs": [
    {
     "name": "stdout",
     "output_type": "stream",
     "text": [
      "Amsterdam\n",
      "Brussels\n",
      "Lisbon\n",
      "Reykjavik\n"
     ]
    }
   ],
   "source": [
    "#checkin the name of each city in the list using for loop\n",
    "european_cities = [\"Amsterdam\", \"Brussels\", \"Lisbon\", \"Reykjavik\"]\n",
    "for city in european_cities:\n",
    "    print(city)\n"
   ]
  },
  {
   "cell_type": "code",
   "execution_count": 5,
   "metadata": {},
   "outputs": [],
   "source": [
    "us_cities = [\n",
    "    \"Detroit\",\n",
    "    \"Chicago\",\n",
    "    \"Denver\",\n",
    "    \"Boston\",\n",
    "    \"Portland\",\n",
    "    \"San Francisco\",\n",
    "    \"Houston\",\n",
    "    \"Orlando\",\n",
    "]\n"
   ]
  },
  {
   "cell_type": "code",
   "execution_count": null,
   "metadata": {},
   "outputs": [],
   "source": [
    "for city_us in us_cities:\n",
    "    print(city_us)"
   ]
  },
  {
   "cell_type": "code",
   "execution_count": 7,
   "metadata": {},
   "outputs": [],
   "source": [
    "weather_conditions = [\n",
    "    \"rain\",\n",
    "    \"sleet\",\n",
    "    \"snow\",\n",
    "    \"freezing fog\",\n",
    "    \"sunny\",\n",
    "    \"cloudy\",\n",
    "    \"ice pellets\",\n",
    "]"
   ]
  },
  {
   "attachments": {},
   "cell_type": "markdown",
   "metadata": {},
   "source": [
    "The last variable to be printed in the following statement is \"ice pellets\""
   ]
  },
  {
   "cell_type": "code",
   "execution_count": null,
   "metadata": {},
   "outputs": [],
   "source": [
    "for weather in weather_conditions:\n",
    "    print(weather)"
   ]
  },
  {
   "cell_type": "code",
   "execution_count": null,
   "metadata": {},
   "outputs": [],
   "source": [
    "print(f\"After the loop, the weather is {weather}\")"
   ]
  },
  {
   "attachments": {},
   "cell_type": "markdown",
   "metadata": {},
   "source": [
    "for loops and the range() function"
   ]
  },
  {
   "cell_type": "code",
   "execution_count": null,
   "metadata": {},
   "outputs": [],
   "source": [
    "for value in range(5):\n",
    "    print(value)"
   ]
  },
  {
   "cell_type": "code",
   "execution_count": null,
   "metadata": {},
   "outputs": [],
   "source": [
    "for i in range(2, 9, 3):\n",
    "    print(i)"
   ]
  },
  {
   "cell_type": "code",
   "execution_count": 25,
   "metadata": {},
   "outputs": [],
   "source": [
    "numbers = [5, 6, 7, 8]"
   ]
  },
  {
   "cell_type": "code",
   "execution_count": null,
   "metadata": {},
   "outputs": [],
   "source": [
    "for i in range(len(numbers)):\n",
    "    print(f\"Value of i: {i} \")\n",
    "\n",
    "    print(f\"Value of numbers[i] before addition: {numbers[i]}\")\n",
    "    \n",
    "    numbers[i] = numbers[i] + i\n",
    "\n",
    "    print(f\"Value of numbers[i] after  addition: {numbers[i]}\")\n",
    "    print(\"\")"
   ]
  },
  {
   "cell_type": "code",
   "execution_count": null,
   "metadata": {},
   "outputs": [],
   "source": [
    "print(numbers)"
   ]
  },
  {
   "attachments": {},
   "cell_type": "markdown",
   "metadata": {},
   "source": [
    "using a loop with the index values to to access corresponding locations in each list"
   ]
  },
  {
   "cell_type": "code",
   "execution_count": 31,
   "metadata": {},
   "outputs": [],
   "source": [
    "cities = [\"Helsinki\", \"Stockholm\", \"Oslo\", \"Reykjavik\", \"Copenhagen\"]"
   ]
  },
  {
   "cell_type": "code",
   "execution_count": 32,
   "metadata": {},
   "outputs": [],
   "source": [
    "countries = [\"Finland\", \"Sweden\", \"Norway\", \"Iceland\", \"Denmark\"]"
   ]
  },
  {
   "cell_type": "code",
   "execution_count": null,
   "metadata": {},
   "outputs": [],
   "source": [
    "for i in range(len(cities)):\n",
    "    print(f\"{cities[i]} is the capital of {countries[i]}\")\n",
    "print(\"\\n**************************\\n\")\n",
    "for i in range(len(countries)):\n",
    "    print(f\"{cities[i]} is the capital of {countries[i]}\")"
   ]
  },
  {
   "attachments": {},
   "cell_type": "markdown",
   "metadata": {},
   "source": [
    "Expected answer (before running the code):\n",
    "11\n",
    "7\n",
    "11\n",
    "15\n",
    "11"
   ]
  },
  {
   "cell_type": "code",
   "execution_count": null,
   "metadata": {},
   "outputs": [],
   "source": [
    "odd_numbers = [1, 3, 5, 7, 9]\n",
    "even_numbers = [10, 4, 6, 8, 2]\n",
    "for i in range(len(odd_numbers)):\n",
    "    print(odd_numbers[i] + even_numbers[i])"
   ]
  },
  {
   "cell_type": "markdown",
   "metadata": {},
   "source": [
    "Basics of conditional statements"
   ]
  },
  {
   "cell_type": "code",
   "execution_count": null,
   "metadata": {},
   "outputs": [],
   "source": [
    "temperature = 17\n",
    "\n",
    "if temperature > 25:\n",
    "    print(f\"{temperature} is hot!\")\n",
    "else:\n",
    "    print(f\"{temperature} is not hot!\")"
   ]
  },
  {
   "cell_type": "code",
   "execution_count": 16,
   "metadata": {},
   "outputs": [
    {
     "name": "stdout",
     "output_type": "stream",
     "text": [
      "No raincoat needed\n"
     ]
    }
   ],
   "source": [
    "weather = \"sunny\"\n",
    "\n",
    "if weather == \"rain\":\n",
    "    print(\"wear a raincoat!\")\n",
    "    print(\"wear rain boots\")\n",
    "else:\n",
    "    print(\"No raincoat needed\")"
   ]
  },
  {
   "cell_type": "markdown",
   "metadata": {},
   "source": [
    "if, elif and else"
   ]
  },
  {
   "cell_type": "code",
   "execution_count": 9,
   "metadata": {},
   "outputs": [],
   "source": [
    "temperature = 10"
   ]
  },
  {
   "cell_type": "code",
   "execution_count": null,
   "metadata": {},
   "outputs": [],
   "source": [
    "if temperature > 0:\n",
    "    print(f\"{temperature} degrees celsius is above freezing\")\n",
    "elif temperature == 0:\n",
    "    print(f\"{temperature} degrees celsius is at freezing point\")\n",
    "else:\n",
    "    print(f\"{temperature} degrees celsius is below freexing point\")"
   ]
  },
  {
   "cell_type": "code",
   "execution_count": 11,
   "metadata": {},
   "outputs": [
    {
     "name": "stdout",
     "output_type": "stream",
     "text": [
      "B\n"
     ]
    }
   ],
   "source": [
    "yesterday = 14\n",
    "today = 10\n",
    "tomorrow = 13\n",
    "\n",
    "if yesterday <= today:\n",
    "    print(\"A\")\n",
    "elif today != tomorrow:\n",
    "    print(\"B\")\n",
    "elif yesterday > tomorrow:\n",
    "    print(\"C\")\n",
    "elif today == today:\n",
    "    print(\"D\")"
   ]
  },
  {
   "cell_type": "markdown",
   "metadata": {},
   "source": [
    "Combining conditions"
   ]
  },
  {
   "cell_type": "code",
   "execution_count": 14,
   "metadata": {},
   "outputs": [
    {
     "name": "stdout",
     "output_type": "stream",
     "text": [
      "At least one part is not true\n"
     ]
    }
   ],
   "source": [
    "if (1 > 0) and (-1 > 0):\n",
    "    print(\"Both parts are true\")\n",
    "else:\n",
    "    print(\"At least one part is not true\")"
   ]
  },
  {
   "cell_type": "code",
   "execution_count": 13,
   "metadata": {},
   "outputs": [
    {
     "name": "stdout",
     "output_type": "stream",
     "text": [
      "At least one test is true\n"
     ]
    }
   ],
   "source": [
    "if (1 < 0) or (-1 < 0):\n",
    "    print(\"At least one test is true\")"
   ]
  },
  {
   "cell_type": "code",
   "execution_count": 24,
   "metadata": {},
   "outputs": [
    {
     "name": "stdout",
     "output_type": "stream",
     "text": [
      "No raincoat needed. Go out and play!!\n"
     ]
    }
   ],
   "source": [
    "wind_speed = 6\n",
    "\n",
    "if weather == \"rain\" or wind_speed > 8:\n",
    "    print(\"stay at home\")\n",
    "elif weather == \"rain\" and wind_speed == 8:\n",
    "    print(\"wear a raincoat!\")\n",
    "    print(\"wear rain boots\")\n",
    "elif weather != \"rain\" and wind_speed <= 8:\n",
    "    print(\"No raincoat needed. Go out and play!!\")\n"
   ]
  },
  {
   "cell_type": "markdown",
   "metadata": {},
   "source": [
    "Combining for-loops and conditional statements"
   ]
  },
  {
   "cell_type": "code",
   "execution_count": null,
   "metadata": {},
   "outputs": [],
   "source": [
    "temperatures = [0, 28, 12, 17, 30]\n",
    "\n",
    "# For each temperature, if the temperature is greater than 25, print \"..is hot\"\n",
    "for temperature in temperatures:\n",
    "    if temperature > 25:\n",
    "        print(f\"{temperature} is hot\")\n",
    "    else:\n",
    "        print(f\"{temperature} is not hot\")"
   ]
  }
 ],
 "metadata": {
  "kernelspec": {
   "display_name": "Python 3",
   "language": "python",
   "name": "python3"
  },
  "language_info": {
   "codemirror_mode": {
    "name": "ipython",
    "version": 3
   },
   "file_extension": ".py",
   "mimetype": "text/x-python",
   "name": "python",
   "nbconvert_exporter": "python",
   "pygments_lexer": "ipython3",
   "version": "3.11.4"
  },
  "orig_nbformat": 4
 },
 "nbformat": 4,
 "nbformat_minor": 2
}
